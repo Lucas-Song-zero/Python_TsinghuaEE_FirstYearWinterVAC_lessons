{
 "cells": [
  {
   "cell_type": "code",
   "execution_count": 43,
   "metadata": {},
   "outputs": [],
   "source": [
    "'''\n",
    "给定一个字符串 s ，请你找出其中不含有重复字符的 最长子串 的长度。\n",
    "0 <= s.length <= 5 * 104\n",
    "s 由英文字母、数字、符号和空格组成\n",
    "'''\n",
    "\n",
    "def lengthOfLongestSubstring(s: str) -> int:\n",
    "    max_length = 0\n",
    "    left, right = 0, 0\n",
    "    index = {}  # store the index of the last occurrence of each character\n",
    "    while right < len(s):\n",
    "        if s[right] in index and index[s[right]] >= left:  #如果出现重复字符并且重复字符位置不在left之前，那么就需要更新left，否则就会包含重复字符\n",
    "            cur_length = right - left\n",
    "            if cur_length > max_length:\n",
    "                max_length = cur_length  #或者使用max_length = max(max_length , cur_length)\n",
    "            left = index[s[right]] + 1 #更新left，使得left指向重复字符第一次出现位置的后面一个位置\n",
    "        index[s[right]] = right #更新重复字符的位置，因为left修改后前一个字符已经不在子串中了\n",
    "        right += 1 #right指针每次都要向右移动一次\n",
    "    \n",
    "    cur_length = right - left  #这是最后right=len(s)时没来的及判断cur_length和max_length的大小，因此需要补上\n",
    "    if cur_length > max_length:\n",
    "        max_length = cur_length\n",
    "\n",
    "    return max_length\n",
    "                "
   ]
  },
  {
   "cell_type": "code",
   "execution_count": 42,
   "metadata": {},
   "outputs": [],
   "source": [
    "def lengthOfLongestSubstring_V2(s: str) -> int:\n",
    "    dic, res, i = {}, 0, -1  # 哈希表记录字符上一次出现的位置，res记录最长子串长度，i记录左指针位置\n",
    "    for j in range(len(s)):  # j为右指针\n",
    "        if s[j] in dic:  # 如果字符已经出现过\n",
    "            i = max(dic[s[j]], i) # 更新左指针 i(使用max函数保证左指针只能向右移动)\n",
    "        dic[s[j]] = j # 哈希表记录\n",
    "        res = max(res, j - i) # 更新结果\n",
    "    return res"
   ]
  }
 ],
 "metadata": {
  "kernelspec": {
   "display_name": "base",
   "language": "python",
   "name": "python3"
  },
  "language_info": {
   "codemirror_mode": {
    "name": "ipython",
    "version": 3
   },
   "file_extension": ".py",
   "mimetype": "text/x-python",
   "name": "python",
   "nbconvert_exporter": "python",
   "pygments_lexer": "ipython3",
   "version": "3.11.5"
  }
 },
 "nbformat": 4,
 "nbformat_minor": 2
}
