{
 "cells": [
  {
   "cell_type": "code",
   "execution_count": 9,
   "metadata": {},
   "outputs": [
    {
     "name": "stdout",
     "output_type": "stream",
     "text": [
      "7 0 8 0.0001376999998683459\n"
     ]
    }
   ],
   "source": [
    "from timeit import timeit\n",
    "class ListNode:\n",
    "     def __init__(self, val=0, next=None): #注意默认next=None\n",
    "         self.val = val\n",
    "         self.next = next\n",
    "def Get_nodeLen(list):  #获得链表的长度，使用递归\n",
    "      if list is None:\n",
    "          return 0\n",
    "      return 1+Get_nodeLen(list.next)\n",
    "# def Show_List(list,string=\"\"):   原本用于纠错，现在不需要就注释掉了\n",
    "#     while list is not None:\n",
    "#         print(list.val,end=\" \")\n",
    "#         list = list.next\n",
    "#         print(string)\n",
    "#     return  \n",
    "def addTwoNumbers(l1, l2):\n",
    "        len_1 = Get_nodeLen(l1)\n",
    "        len_2 = Get_nodeLen(l2)\n",
    "        same_digit=min(len_1,len_2)  #两者重复的位数\n",
    "        if len_1 == len_2:\n",
    "            back_list = ListNode(l1.val+l2.val)\n",
    "            head = back_list\n",
    "            #Show_List(back_list,\"0\") 原本是用来纠错的\n",
    "            for _ in range(len_1-1): #因为循环变量不需要使用，所以用_占空\n",
    "                 l1 = l1.next\n",
    "                 l2 = l2.next\n",
    "                 back_list.next = ListNode(l1.val+l2.val)\n",
    "                 back_list = back_list.next     #其实可以只分为len_1>len_2 和 len_1 ≤ len_2两种情况，不过好像三种分类可以一定程度的加速程序\n",
    "        elif len_1 > len_2:\n",
    "             back_list = ListNode(l1.val+l2.val) #按位相加\n",
    "             head = back_list  #用head储存链表的头部\n",
    "             for _ in range(same_digit-1):  #same_digit是两者重复的位数,-1是因为最开始已经加了一次\n",
    "                 l1 = l1.next\n",
    "                 l2 = l2.next\n",
    "                 back_list.next = ListNode(l1.val+l2.val)\n",
    "                 back_list = back_list.next  #back_list指向下一个节点，以进行循环\n",
    "             while l1.next is not None:  #l1的长度更长，因此需要将l1剩下的部分直接加入\n",
    "                 l1 = l1.next\n",
    "                 back_list.next = ListNode(l1.val)\n",
    "                 back_list = back_list.next\n",
    "        else:  #len_1 < len_2\n",
    "             back_list = ListNode(l1.val+l2.val)  #下面的语句和len_1 > len_2正好反过来\n",
    "             head = back_list\n",
    "             for _ in range(same_digit-1):\n",
    "                  l1 = l1.next\n",
    "                  l2 = l2.next\n",
    "                  back_list.next = ListNode(l1.val+l2.val)\n",
    "                  back_list = back_list.next\n",
    "             while l2.next is not None:\n",
    "                  l2 = l2.next\n",
    "                  back_list.next = ListNode(l2.val)\n",
    "                  back_list = back_list.next\n",
    "        #Show_List(head)\n",
    "        temp = head #使用temp来遍历链表，进行进位操作\n",
    "        while temp.next is not None:\n",
    "            if temp.val>=10:\n",
    "                temp.val -= 10\n",
    "                temp.next.val += 1\n",
    "            temp = temp.next\n",
    "        if temp.val>=10:  #最后一位的进位(这个要注意)\n",
    "             temp.val-=10\n",
    "             temp.next = ListNode(1)\n",
    "        return head\n",
    "l1 = ListNode(2,ListNode(4,ListNode(3)))  #逆位储存，储存的是324\n",
    "l2 = ListNode(5,ListNode(6,ListNode(4)))  #储存的是465\n",
    "node = addTwoNumbers(l1,l2)\n",
    "while node is not None:\n",
    "    print(node.val,end=\" \")\n",
    "    node = node.next\n",
    "print(timeit('addTwoNumbers(l1,l2)','from __main__ import addTwoNumbers,l1,l2',number=100))\n",
    "#Done        "
   ]
  },
  {
   "cell_type": "code",
   "execution_count": 15,
   "metadata": {},
   "outputs": [
    {
     "name": "stdout",
     "output_type": "stream",
     "text": [
      "7 0 8 8.400000024266774e-05\n"
     ]
    }
   ],
   "source": [
    "def addTwoNumbers(l1, l2):\n",
    "    back_list = ListNode(l1.val+l2.val)\n",
    "    head = back_list\n",
    "    while l1.next is not None or l2.next is not None:\n",
    "        if l1.next is None:\n",
    "            l1 , l2 = l2 , l1\n",
    "        back_list.next = ListNode(l1.next.val+l2.next.val if l2.next is not None else 0)\n",
    "        l1 = l1.next\n",
    "        l2 = l2.next\n",
    "        back_list = back_list.next\n",
    "    temp = head\n",
    "    while temp.next is not None:\n",
    "        if temp.val>=10:\n",
    "            temp.val -= 10\n",
    "            temp.next.val += 1\n",
    "        temp = temp.next\n",
    "    if temp.val>=10:\n",
    "        temp.val-=10\n",
    "        temp.next = ListNode(1)\n",
    "    return head\n",
    "l1 = ListNode(2,ListNode(4,ListNode(3)))  #逆位储存，储存的是324\n",
    "l2 = ListNode(5,ListNode(6,ListNode(4)))  #储存的是465\n",
    "node = addTwoNumbers(l1,l2)\n",
    "while node is not None:\n",
    "    print(node.val,end=\" \")\n",
    "    node = node.next\n",
    "print(timeit('addTwoNumbers(l1,l2)','from __main__ import addTwoNumbers,l1,l2',number=100))   "
   ]
  },
  {
   "cell_type": "code",
   "execution_count": 21,
   "metadata": {},
   "outputs": [
    {
     "name": "stdout",
     "output_type": "stream",
     "text": [
      "7 0 8 7.229999982882873e-05\n"
     ]
    }
   ],
   "source": [
    "# l1 和 l2 为当前遍历的节点，carry 为进位  使用了递归方法\n",
    "def addTwoNumbers(l1, l2, carry=0):\n",
    "    if l1 is None and l2 is None:  # 递归边界：l1 和 l2 都是空节点\n",
    "        return ListNode(carry) if carry else None  # 如果进位了，就额外创建一个节点\n",
    "    if l1 is None:  # 如果 l1 是空的，那么此时 l2 一定不是空节点\n",
    "        l1, l2 = l2, l1  # 交换 l1 与 l2，保证 l1 非空，从而简化代码 (这个办法可以减少分类讨论，为下面的代码减少了一半的工作量)\n",
    "    carry += l1.val + (l2.val if l2 else 0)  # 节点值和进位加在一起，后面的+(l2.val if l2 else 0)意思是如果l2是空的，就加0，否则就加l2.val\n",
    "    l1.val = carry % 10  # 每个节点保存一个数位\n",
    "    l1.next = addTwoNumbers(l1.next, l2.next if l2 else None, carry // 10)  # 进位,如果这一位没有进位，carry//10=0，就不会进位到下一位，\n",
    "                                                                            #更不会额外创建一个节点\n",
    "    return l1\n",
    "#test\n",
    "l1 = ListNode(2,ListNode(4,ListNode(3)))  #逆位储存，储存的是324\n",
    "l2 = ListNode(5,ListNode(6,ListNode(4)))  #储存的是465\n",
    "node = addTwoNumbers(l1,l2)\n",
    "while node is not None:\n",
    "    print(node.val,end=\" \")\n",
    "    node = node.next\n",
    "print(timeit('addTwoNumbers(l1,l2)','from __main__ import addTwoNumbers,l1,l2',number=100))\n",
    "#Done\n",
    "#程序中(l2.val if l2 else 0)、return ListNode(carry) if carry else None这类语句一方面简化了判断，另一方面也简化了代码，这是一个很好的技巧"
   ]
  },
  {
   "cell_type": "code",
   "execution_count": null,
   "metadata": {},
   "outputs": [],
   "source": []
  }
 ],
 "metadata": {
  "kernelspec": {
   "display_name": "base",
   "language": "python",
   "name": "python3"
  },
  "language_info": {
   "codemirror_mode": {
    "name": "ipython",
    "version": 3
   },
   "file_extension": ".py",
   "mimetype": "text/x-python",
   "name": "python",
   "nbconvert_exporter": "python",
   "pygments_lexer": "ipython3",
   "version": "3.11.5"
  }
 },
 "nbformat": 4,
 "nbformat_minor": 2
}
