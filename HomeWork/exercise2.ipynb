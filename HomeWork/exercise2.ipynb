{
 "cells": [
  {
   "cell_type": "markdown",
   "metadata": {
    "collapsed": false
   },
   "source": [
    "# NumPy 基础练习\n",
    "\n",
    "请你尝试使用学到的 NumPy 编程知识，解决如下问题。"
   ]
  },
  {
   "cell_type": "code",
   "execution_count": 2,
   "metadata": {
    "collapsed": false
   },
   "outputs": [],
   "source": [
    "import numpy as np"
   ]
  },
  {
   "cell_type": "markdown",
   "metadata": {
    "collapsed": false
   },
   "source": [
    "## 1. 文件读取，数组拼接，索引，类型转换，数组运算，数组创建，转置\n",
    "\n",
    "(1) 现有一个图像数据集，存放在 `images_0.npy` 和 `images_1.npy` 中。请你先分别读取图像数据，然后沿第 0 轴（batch 轴）将两组数据进行拼接，赋值给 `images` 变量，并打印 `images` 的数据类型和形状，以及像素取值的最大值和最小值。"
   ]
  },
  {
   "cell_type": "code",
   "execution_count": 3,
   "metadata": {
    "collapsed": false
   },
   "outputs": [
    {
     "name": "stdout",
     "output_type": "stream",
     "text": [
      "<class 'numpy.ndarray'> (6, 16, 16, 3)\n",
      "数组取值最大是 255\n",
      "数组取值最小是 0\n"
     ]
    }
   ],
   "source": [
    "img_0 = np.load('images_0.npy')\n",
    "img_1 = np.load('images_1.npy')\n",
    "\n",
    "images = np.concatenate((img_0, img_1), axis=0)\n",
    "print(type(images),images.shape)\n",
    "print(\"数组取值最大是\",np.max(images))\n",
    "print(\"数组取值最小是\",np.min(images))"
   ]
  },
  {
   "cell_type": "markdown",
   "metadata": {
    "collapsed": false
   },
   "source": [
    "(2) 现在想要将 `images` 中的图像的尺寸（高度和宽度）减小一半。请你采用选取原图像中的偶数行和奇数列的方法缩减图像的尺寸。"
   ]
  },
  {
   "cell_type": "code",
   "execution_count": 4,
   "metadata": {
    "collapsed": false
   },
   "outputs": [],
   "source": [
    "Compressed_arr = images[:,::2,1::2,:] #切片操作，其中第1维是行，第2维是列 不需要进行操作的维度直接写冒号,需要进行操作的维度写（起始:终点:步长）\n",
    "#所以行从0开始，步长为2；列从1开始，步长为2"
   ]
  },
  {
   "cell_type": "markdown",
   "metadata": {
    "collapsed": false
   },
   "source": [
    "(3) 当前，图片像素的取值为 0\\~255。现在需要你对像素取值进行正规化，即将 0\\~255 映射到 -1\\~1。请注意类型转换！"
   ]
  },
  {
   "cell_type": "code",
   "execution_count": 5,
   "metadata": {
    "collapsed": false
   },
   "outputs": [],
   "source": [
    "Std_arr = Compressed_arr.astype(float) / (255/2) - 1 #归一化"
   ]
  },
  {
   "cell_type": "markdown",
   "metadata": {
    "collapsed": false
   },
   "source": [
    "(4) 现在，请你为图像的每一个像素分别加上在 $[-0.01, 0.01]$ 上均匀分布的噪声，但要求加入噪声后，像素取值仍要在 $[-1, 1]$ （超出部分需要截断）。"
   ]
  },
  {
   "cell_type": "code",
   "execution_count": 6,
   "metadata": {
    "collapsed": false
   },
   "outputs": [],
   "source": [
    "Noise = np.random.uniform(-1,1,Std_arr.shape)\n",
    "Noise_Std_arr = Std_arr + Noise\n",
    "for i in np.ravel(Noise_Std_arr): #先把数组展平，然后对每个元素进行判断\n",
    "    if i > 1:\n",
    "        i = 1\n",
    "    if i < -1:\n",
    "        i = -1\n",
    "    if -0.1<i<0.1:\n",
    "        i = 0\n",
    "# 通过对视图的截断实现对原数组数值的截断"
   ]
  },
  {
   "cell_type": "markdown",
   "metadata": {
    "collapsed": false
   },
   "source": [
    "(5) 请将图像中取值在 $[-0.1, 0.1]$ 的像素赋值为 0。"
   ]
  },
  {
   "cell_type": "code",
   "execution_count": 7,
   "metadata": {
    "collapsed": false
   },
   "outputs": [],
   "source": [
    "#在上面直接一块实现了"
   ]
  },
  {
   "cell_type": "markdown",
   "metadata": {
    "collapsed": false
   },
   "source": [
    "(6) 在 NumPy 中，图像数组的形状通常是 (batch, height, width, channel)，但在 PyTorch 中，图像张量的形状通常是 (batch, channel, height, width)。请你将当前图像数组按照 PyTorch 定义的维度顺序进行转换。"
   ]
  },
  {
   "cell_type": "code",
   "execution_count": 8,
   "metadata": {
    "collapsed": false
   },
   "outputs": [
    {
     "name": "stdout",
     "output_type": "stream",
     "text": [
      "done\n"
     ]
    }
   ],
   "source": [
    "np.transpose(Noise_Std_arr, (0, 3, 1, 2))\n",
    "# 实现将当前图像数组按照 PyTorch 定义的维度顺序进行转换。\n",
    "print(\"done\")"
   ]
  },
  {
   "cell_type": "markdown",
   "metadata": {
    "collapsed": false
   },
   "source": [
    "## 2. 矩阵、向量运算，数学函数\n",
    "\n",
    "已知旋转矩阵的定义为：\n",
    "\n",
    "$$\n",
    "\\mathbf M(\\theta )={\\begin{bmatrix}\\cos {\\theta }&-\\sin {\\theta }\\\\ \\sin {\\theta }&\\cos {\\theta }\\end{bmatrix}}\n",
    "$$\n",
    "\n",
    "向量 $\\boldsymbol x$ 经旋转矩阵 $\\mathbf M$ 作用后的向量为 $\\mathbf M \\boldsymbol x$。\n",
    "\n",
    "(1) 请你生成一个旋转角度 $\\theta = 30 \\degree$ 的旋转矩阵。"
   ]
  },
  {
   "cell_type": "code",
   "execution_count": 9,
   "metadata": {
    "collapsed": false
   },
   "outputs": [],
   "source": [
    "def Rotate_Mat(angle):\n",
    "    angle = np.deg2rad(angle)\n",
    "    return np.array([[np.cos(angle), -np.sin(angle)], [np.sin(angle), np.cos(angle)]])\n",
    "Rotate_30 = Rotate_Mat(30)"
   ]
  },
  {
   "cell_type": "markdown",
   "metadata": {
    "collapsed": false
   },
   "source": [
    "(2) 现有向量 $\\boldsymbol x = (1, 2)$。请计算经上一步旋转矩阵作用后的向量，以及旋转前后向量的模长。"
   ]
  },
  {
   "cell_type": "code",
   "execution_count": 10,
   "metadata": {
    "collapsed": false
   },
   "outputs": [
    {
     "name": "stdout",
     "output_type": "stream",
     "text": [
      "[-0.1339746   2.23205081]\n",
      "2.23606797749979\n",
      "2.2360679774997894\n"
     ]
    }
   ],
   "source": [
    "x =[1,2]\n",
    "x_rotated = Rotate_30 @ x\n",
    "print(x_rotated)\n",
    "print(np.linalg.norm(x))\n",
    "print(np.linalg.norm(x_rotated))"
   ]
  }
 ],
 "metadata": {
  "kernelspec": {
   "display_name": "Python 3",
   "language": "python",
   "name": "python3"
  },
  "language_info": {
   "codemirror_mode": {
    "name": "ipython",
    "version": 3
   },
   "file_extension": ".py",
   "mimetype": "text/x-python",
   "name": "python",
   "nbconvert_exporter": "python",
   "pygments_lexer": "ipython3",
   "version": "3.11.5"
  }
 },
 "nbformat": 4,
 "nbformat_minor": 0
}
