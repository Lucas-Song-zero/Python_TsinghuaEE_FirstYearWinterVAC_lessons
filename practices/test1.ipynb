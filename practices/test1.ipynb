{
 "cells": [
  {
   "cell_type": "code",
   "execution_count": null,
   "metadata": {},
   "outputs": [],
   "source": [
    "#是最普通的双重for循环，时间复杂度为O(n^2)，直接把leetcode上面的解答粘贴下来了\n",
    "class Solution:\n",
    "    def twoSum(self, nums, target: int):\n",
    "        size = nums.__len__()\n",
    "        for i in range(size):\n",
    "            for j in range(i,size):\n",
    "                if nums[i]+nums[j]==target and i!=j:\n",
    "                    return i,j"
   ]
  },
  {
   "cell_type": "code",
   "execution_count": 1,
   "metadata": {},
   "outputs": [
    {
     "name": "stdout",
     "output_type": "stream",
     "text": [
      "0 2\n",
      "hashtable= {}\n",
      "hashtable= {2: 0}\n",
      "1 11\n",
      "hashtable= {2: 0}\n",
      "hashtable= {2: 0, 11: 1}\n",
      "2 12\n",
      "hashtable= {2: 0, 11: 1}\n",
      "hashtable= {2: 0, 11: 1, 12: 2}\n",
      "3 13\n",
      "hashtable= {2: 0, 11: 1, 12: 2}\n",
      "hashtable= {2: 0, 11: 1, 12: 2, 13: 3}\n",
      "4 1\n",
      "hashtable= {2: 0, 11: 1, 12: 2, 13: 3}\n",
      "hashtable= {2: 0, 11: 1, 12: 2, 13: 3, 1: 4}\n",
      "5 14\n",
      "hashtable= {2: 0, 11: 1, 12: 2, 13: 3, 1: 4}\n",
      "hashtable= {2: 0, 11: 1, 12: 2, 13: 3, 1: 4, 14: 5}\n",
      "6 7\n",
      "0 6\n"
     ]
    },
    {
     "data": {
      "text/plain": [
       "[0, 6]"
      ]
     },
     "execution_count": 1,
     "metadata": {},
     "output_type": "execute_result"
    }
   ],
   "source": [
    "'''\n",
    "这一段内容是源自leetcode上面的官方答案，使用了哈希表的方法，时间复杂度为O(n)，\n",
    "并且空间复杂度和双重for循环的方法也相差无几\n",
    "主要思路是不断扩张hashtable同时寻找和当前值之和是target的表中值，\n",
    "如果找到了就返回，如果没有找到就继续扩张hashtable\n",
    "'''\n",
    "\n",
    "def twoSum(nums,target):\n",
    "        hashtable = dict()\n",
    "        for i, num in enumerate(nums):\n",
    "            print(i,num)\n",
    "            if target - num in hashtable:\n",
    "                print(hashtable[target - num], i)\n",
    "                return [hashtable[target - num], i]\n",
    "            print(\"hashtable=\",hashtable)\n",
    "            hashtable[nums[i]] = i  \n",
    "            print(\"hashtable=\",hashtable)\n",
    "        return []  #如果没有找到就返回空\n",
    "# 上面把每次更新的hashtable打印出来了，可以明显看出来其过程\n",
    "twoSum([2,11,12,13,1,14,7,11,15],9)"
   ]
  },
  {
   "cell_type": "code",
   "execution_count": null,
   "metadata": {},
   "outputs": [],
   "source": [
    "#这是第一遍没看清题目要求的时候写的，用到了上面刚遇到的哈希表的方法（大概是吧）\n",
    "def compressString(S):\n",
    "    hashtable = dict()\n",
    "    str =\"\"\n",
    "    for _, char_x in enumerate(S):\n",
    "        if char_x in hashtable:\n",
    "            hashtable[char_x] += 1\n",
    "        else:\n",
    "            hashtable[char_x] = 1\n",
    "    for char_x in hashtable:\n",
    "        str+=f\"{char_x}{hashtable[char_x]}\"\n",
    "    if(len(str)>=len(S)):\n",
    "        return S\n",
    "    return str\n",
    "compressString(\"aabcccccaaa\")\n"
   ]
  },
  {
   "cell_type": "code",
   "execution_count": null,
   "metadata": {},
   "outputs": [],
   "source": [
    "#这个是更改过后的方法，和leetcode官方的方法差不多，利用了模式字符串\n",
    "def compressString( S: str) -> str:\n",
    "    str =\"\"\n",
    "    c = S[0]\n",
    "    count = 0\n",
    "    for char_x in S:\n",
    "        if char_x == c:\n",
    "            count+=1\n",
    "        else:\n",
    "            str+=f\"{c}{count}\"\n",
    "            c = char_x\n",
    "            count = 1\n",
    "    str+=f\"{c}{count}\"\n",
    "    if(len(str)>len(S)):\n",
    "        return S\n",
    "    else:\n",
    "        return str\n",
    "    \n",
    "print(compressString(\"aabcccccaa\"))\n",
    "print(compressString(\"abbccd\"))"
   ]
  },
  {
   "cell_type": "code",
   "execution_count": null,
   "metadata": {},
   "outputs": [],
   "source": [
    "import re\n",
    "def number2str(number): #将数字转换为补码二进制字符串（并且保证是8位字符串）\n",
    "    #判断数字是正数还是负数\n",
    "    if number>=0:\n",
    "        return format(number,'08b') #format函数的第一个参数是要转换的数字，第二个参数是转换后的格式，其中08b表示转换为8位二进制数，返回一个字符串\n",
    "    else:\n",
    "        positive_binary = format(abs(number),'08b') #先得到绝对值的二进制字符串（8位）\n",
    "        complement = ''.join('1' if bit == '0' else '0' for bit in positive_binary)  #利用补码计算公式第一步得到反码\n",
    "        complement = int(complement, 2) + 1  #这一步是将反码转换为十进制数，再加一得到补码对应的二进制数\n",
    "        return format(complement,'08b') #返回补码对应的8位字符串\n",
    "\n",
    "pattern = r'[-+]?\\d+' #这个正则表达式是用来匹配整数的，其中[-+]表示匹配正负号，\\d表示匹配数字，+表示匹配一个或多个\n",
    "with open(r\"C:\\Users\\SXZ\\Downloads\\dec.txt\",\"r\",encoding=\"utf8\") as file:\n",
    "    with open(r\"C:\\Users\\SXZ\\Downloads\\bin.txt\",\"w\",encoding=\"utf8\") as out_file:\n",
    "        for eacLine in file:\n",
    "            match_obj1,match_obj2 = re.findall(pattern,eacLine)\n",
    "            out_file.write(f\"({number2str(int(match_obj1))},{number2str(int(match_obj2))})\\n\")"
   ]
  }
 ],
 "metadata": {
  "kernelspec": {
   "display_name": "base",
   "language": "python",
   "name": "python3"
  },
  "language_info": {
   "codemirror_mode": {
    "name": "ipython",
    "version": 3
   },
   "file_extension": ".py",
   "mimetype": "text/x-python",
   "name": "python",
   "nbconvert_exporter": "python",
   "pygments_lexer": "ipython3",
   "version": "3.11.5"
  }
 },
 "nbformat": 4,
 "nbformat_minor": 2
}
