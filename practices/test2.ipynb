{
 "cells": [
  {
   "cell_type": "code",
   "execution_count": 3,
   "metadata": {},
   "outputs": [],
   "source": [
    "import os  # 用于创建文件夹\n",
    "\n",
    "from PIL import Image, ImageDraw, ImageFont  # 用于创建和保存图像、对图像进行绘制、使用字体\n",
    "\n",
    "# 字符集\n",
    "chars = [\n",
    "    range(0x0021, 0x007E + 1),\n",
    "    range(0x00A1, 0x00AC + 1),\n",
    "    range(0x00AE, 0x0377 + 1),\n",
    "    range(0x037A, 0x037F + 1),\n",
    "    range(0x0384, 0x038A + 1),\n",
    "    range(0x038C, 0x038C + 1),\n",
    "    range(0x038E, 0x052F + 1),   #字符对应的unicode编码\n",
    "]\n",
    "# TODO: 将chars中的所有range展开为一维数组：[33,34,...]\n",
    "chars = [c for r in chars for c in r]\n",
    "\n",
    "# 图像尺寸（单位：像素）\n",
    "image_size = 48\n",
    "# 图像中心\n",
    "pos = (image_size // 2-2,image_size //2 -4)  # 得到一个代表中心点二位坐标的元组，需要微调一下保证尽可能的接近中点\n",
    "# 字体\n",
    "font = ImageFont.truetype(\"arial.ttf\", 16) #32字体太大了，16字体效果不错，选择了16字体\n",
    "\n",
    "# 创建输出文件夹\n",
    "os.makedirs(\"data\", exist_ok=True)  # 如果文件夹不存在则创建，存在则忽略\n",
    "\n",
    "for char in chars:  # 遍历字符集（已经被展开为一维数组）\n",
    "    # TODO: 使用Image.new创建图像\n",
    "    img = Image.new(\"1\",(48,48))  #\"1\"是指黑白图片，\"L\"是指灰度图片，\"RGB\"是指彩色图片，\"RGBA\"是彩色带透明度照片，(48,48)是指图片尺寸，可以替换为image_size\n",
    "\n",
    "    # TODO: 使用ImageDraw绘制文字\n",
    "    draw = ImageDraw.Draw(img)\n",
    "    draw.text(pos,chr(char),font=font,fill=255)  # 利用chr函数将unicode编码转换为字符，fill=255表示填充颜色为白色\n",
    "\n",
    "    # TODO: 使用模板字符串写保存文件名\n",
    "    img.save(f\"data/{char:04x}.png\")  # 保存图片，{char:04x}表示将char转换为16进制，且占4位，不足的用0补齐(0表示用0补位，4表示4位数字，x表示16进制)\n"
   ]
  }
 ],
 "metadata": {
  "kernelspec": {
   "display_name": "base",
   "language": "python",
   "name": "python3"
  },
  "language_info": {
   "codemirror_mode": {
    "name": "ipython",
    "version": 3
   },
   "file_extension": ".py",
   "mimetype": "text/x-python",
   "name": "python",
   "nbconvert_exporter": "python",
   "pygments_lexer": "ipython3",
   "version": "3.11.5"
  }
 },
 "nbformat": 4,
 "nbformat_minor": 2
}
