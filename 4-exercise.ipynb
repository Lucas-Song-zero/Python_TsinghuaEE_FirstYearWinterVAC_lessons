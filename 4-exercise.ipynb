{
  "cells": [
    {
      "cell_type": "code",
      "execution_count": 156,
      "metadata": {},
      "outputs": [],
      "source": [
        "import pandas as pd\n",
        "import matplotlib.pyplot as plt\n",
        "import numpy as np"
      ]
    },
    {
      "cell_type": "markdown",
      "metadata": {},
      "source": [
        "**注：除非特别说明，完成以下任务时不要使用numpy或任何其他的库，只使用pandas和matplotlib自带的功能**"
      ]
    },
    {
      "cell_type": "code",
      "execution_count": 157,
      "metadata": {},
      "outputs": [
        {
          "name": "stdout",
          "output_type": "stream",
          "text": [
            "Index(['学号', '科目', '成绩'], dtype='object')\n",
            "   学号 科目   成绩\n",
            "0   4  A   36\n",
            "1  36  A    0\n",
            "2  18  A    6\n",
            "3  59  A    0\n",
            "4  47  A   65\n",
            "5  12  A    4\n",
            "6  58  A   48\n",
            "7  63  A  100\n",
            "8   2  A   85\n",
            "9  65  A    3\n"
          ]
        }
      ],
      "source": [
        "# 读取 data/score.xlsx 成绩单\n",
        "data=pd.read_excel('score.xlsx')\n",
        "print(data.columns)\n",
        "print(data.head(10))\n",
        "# TODO"
      ]
    },
    {
      "cell_type": "code",
      "execution_count": 158,
      "metadata": {},
      "outputs": [
        {
          "data": {
            "text/html": [
              "<div>\n",
              "<style scoped>\n",
              "    .dataframe tbody tr th:only-of-type {\n",
              "        vertical-align: middle;\n",
              "    }\n",
              "\n",
              "    .dataframe tbody tr th {\n",
              "        vertical-align: top;\n",
              "    }\n",
              "\n",
              "    .dataframe thead th {\n",
              "        text-align: right;\n",
              "    }\n",
              "</style>\n",
              "<table border=\"1\" class=\"dataframe\">\n",
              "  <thead>\n",
              "    <tr style=\"text-align: right;\">\n",
              "      <th></th>\n",
              "      <th>学号</th>\n",
              "      <th>科目</th>\n",
              "      <th>成绩</th>\n",
              "    </tr>\n",
              "  </thead>\n",
              "  <tbody>\n",
              "    <tr>\n",
              "      <th>0</th>\n",
              "      <td>4</td>\n",
              "      <td>A</td>\n",
              "      <td>36</td>\n",
              "    </tr>\n",
              "    <tr>\n",
              "      <th>1</th>\n",
              "      <td>36</td>\n",
              "      <td>A</td>\n",
              "      <td>0</td>\n",
              "    </tr>\n",
              "    <tr>\n",
              "      <th>2</th>\n",
              "      <td>18</td>\n",
              "      <td>A</td>\n",
              "      <td>6</td>\n",
              "    </tr>\n",
              "    <tr>\n",
              "      <th>3</th>\n",
              "      <td>59</td>\n",
              "      <td>A</td>\n",
              "      <td>0</td>\n",
              "    </tr>\n",
              "    <tr>\n",
              "      <th>4</th>\n",
              "      <td>47</td>\n",
              "      <td>A</td>\n",
              "      <td>65</td>\n",
              "    </tr>\n",
              "  </tbody>\n",
              "</table>\n",
              "</div>"
            ],
            "text/plain": [
              "   学号 科目  成绩\n",
              "0   4  A  36\n",
              "1  36  A   0\n",
              "2  18  A   6\n",
              "3  59  A   0\n",
              "4  47  A  65"
            ]
          },
          "execution_count": 158,
          "metadata": {},
          "output_type": "execute_result"
        }
      ],
      "source": [
        "# 查看前5行数据\n",
        "data.head(5)\n",
        "# TODO"
      ]
    },
    {
      "cell_type": "code",
      "execution_count": 159,
      "metadata": {},
      "outputs": [
        {
          "data": {
            "text/plain": [
              "352"
            ]
          },
          "execution_count": 159,
          "metadata": {},
          "output_type": "execute_result"
        }
      ],
      "source": [
        "# 计算每门课的人数\n",
        "data['学号'].count() # 人数\n",
        "# TODO"
      ]
    },
    {
      "cell_type": "code",
      "execution_count": 160,
      "metadata": {},
      "outputs": [
        {
          "data": {
            "text/plain": [
              "科目\n",
              "A    32.742857\n",
              "B    43.107692\n",
              "C    43.863014\n",
              "D    40.360000\n",
              "E    59.072464\n",
              "Name: 成绩, dtype: float64"
            ]
          },
          "execution_count": 160,
          "metadata": {},
          "output_type": "execute_result"
        }
      ],
      "source": [
        "# 计算每门课的平均分\n",
        "data.groupby('科目')['成绩'].mean()\n",
        "# TODO"
      ]
    },
    {
      "cell_type": "code",
      "execution_count": 161,
      "metadata": {},
      "outputs": [
        {
          "data": {
            "text/plain": [
              "科目\n",
              "A    34.067999\n",
              "B    21.568295\n",
              "C    32.103701\n",
              "D    27.560077\n",
              "E    34.352977\n",
              "Name: 成绩, dtype: float64"
            ]
          },
          "execution_count": 161,
          "metadata": {},
          "output_type": "execute_result"
        }
      ],
      "source": [
        "# 计算每门课的分数标准差（自己思考应该使用哪一种计算方式并给出理由）\n",
        "data.groupby('科目')['成绩'].std()\n",
        "# TODO"
      ]
    },
    {
      "cell_type": "code",
      "execution_count": 169,
      "metadata": {},
      "outputs": [
        {
          "name": "stdout",
          "output_type": "stream",
          "text": [
            "科目\n",
            "A    0.271429\n",
            "B    0.200000\n",
            "C    0.301370\n",
            "D    0.240000\n",
            "E    0.492754\n",
            "Name: 成绩, dtype: float64\n"
          ]
        }
      ],
      "source": [
        "# 计算每门课的及格率（分数≥60的人数除以该门课总人数）\n",
        "#Way1\n",
        "print(data.groupby('科目')['成绩'].apply(lambda x: x[x>=60].count()/x.count()))"
      ]
    },
    {
      "cell_type": "code",
      "execution_count": 168,
      "metadata": {},
      "outputs": [
        {
          "name": "stdout",
          "output_type": "stream",
          "text": [
            "科目\n",
            "A    0.271429\n",
            "B    0.200000\n",
            "C    0.301370\n",
            "D    0.240000\n",
            "E    0.492754\n",
            "Name: 成绩, dtype: float64\n"
          ]
        }
      ],
      "source": [
        "#Way2\n",
        "pass_rates = data[data['成绩']>=60].groupby('科目')['成绩'].count()/data.groupby('科目')['成绩'].count()\n",
        "print(pass_rates)\n",
        "# TODO"
      ]
    },
    {
      "cell_type": "code",
      "execution_count": 179,
      "metadata": {},
      "outputs": [
        {
          "name": "stdout",
          "output_type": "stream",
          "text": [
            "     学号 科目   成绩\n",
            "91    0  B   57\n",
            "158   0  C   29\n",
            "282   0  D    0\n",
            "316   0  E  100\n"
          ]
        }
      ],
      "source": [
        "# 计算每个学生的平均分，从高到低排序，显示前10名\n",
        "data.groupby('学号')['成绩'].mean().sort_values(ascending=False).head(10)\n",
        "# TODO"
      ]
    },
    {
      "cell_type": "code",
      "execution_count": 182,
      "metadata": {},
      "outputs": [
        {
          "name": "stdout",
          "output_type": "stream",
          "text": [
            "4.901228000822814\n"
          ]
        }
      ],
      "source": [
        "# 将科目A的成绩视为离散随机变量，计算它的熵（可以用numpy的log函数）\n",
        "p_x = data[data['科目']=='A']['成绩'].to_numpy()/data[data['科目']=='A']['成绩'].count()\n",
        "entropy = 0\n",
        "for p in p_x:\n",
        "    if p !=0: # 遇到p==0要跳过，否则会出现log0会报错\n",
        "        entropy -= p*np.log(p)\n",
        "print(entropy)\n",
        "# TODO"
      ]
    },
    {
      "cell_type": "code",
      "execution_count": 183,
      "metadata": {},
      "outputs": [
        {
          "data": {
            "image/png": "[encoded data removed]",
            "text/plain": [
              "<Figure size 1000x500 with 5 Axes>"
            ]
          },
          "metadata": {},
          "output_type": "display_data"
        }
      ],
      "source": [
        "# 绘制每门课的成绩直方图，要求如下\n",
        "# - 使用子图，布局为2行3列\n",
        "# - 每个子图的标题为课程名称，x轴标题为\"Score\"，y轴标题为\"Count\"\n",
        "# - 直方图x轴范围是0~100，分成20个柱子；y轴范围是0~30\n",
        "# - 显示网格\n",
        "# - 整体尺寸为 高5 宽10\n",
        "plt.figure(figsize=(10,5))\n",
        "for i in range(5):\n",
        "        plt.subplot(2,3,i+1) # 2行3列的图像\n",
        "        course = data.groupby('科目') # 按科目分组\n",
        "        plt.hist(course['成绩'].get_group(chr(65+i)),bins=20,range=(0,100)) #chr(65+i)依次对应A,B,C,D,E.get_group()获取对应的成绩\n",
        "        # bins=20表示分成20个柱子，range=(0,100)表示x轴范围是0~100\n",
        "        plt.ylim(0,30) # y轴范围是0~30\n",
        "        plt.xlim(0,100) # x轴范围是0~100\n",
        "        plt.title(chr(65+i)) # 标题\n",
        "        plt.xlabel('Score')  # x轴标题\n",
        "        plt.ylabel('Count') # y轴标题\n",
        "        plt.grid() # 显示网格\n",
        "plt.tight_layout() # 自动调整子图参数，使之填充整个图像区域"
      ]
    },
    {
      "cell_type": "code",
      "execution_count": 197,
      "metadata": {},
      "outputs": [
        {
          "name": "stdout",
          "output_type": "stream",
          "text": [
            "205\n",
            "             A           B         C           D           E\n",
            "A  1235.575610   -0.559756   -91.100   65.990854  -22.729878\n",
            "B    -0.559756  412.756098   137.575   66.571341 -111.696951\n",
            "C   -91.100000  137.575000  1093.400   15.475000  191.250000\n",
            "D    65.990854   66.571341    15.475  701.962195   77.873171\n",
            "E   -22.729878 -111.696951   191.250   77.873171  989.989024\n"
          ]
        },
        {
          "data": {
            "text/plain": [
              "<matplotlib.colorbar.Colorbar at 0x1daac7c1eb0>"
            ]
          },
          "execution_count": 197,
          "metadata": {},
          "output_type": "execute_result"
        },
        {
          "data": {
            "image/png": "[encoded data removed]",
            "text/plain": [
              "<Figure size 640x480 with 2 Axes>"
            ]
          },
          "metadata": {},
          "output_type": "display_data"
        }
      ],
      "source": [
        "# 筛选出参加了全部科目考试的学生\n",
        "# 1. 输出学生数目\n",
        "# 2. 以他们的成绩计算这5门科目的协方差矩阵，print出来\n",
        "# 3. 使用imshow绘图展示协方差矩阵，在x轴和y轴标记科目名称，显示colorbar\n",
        "students = data.groupby('学号').filter(lambda x: x['科目'].count()==5) # 筛选出参加了全部科目考试的学生（科目这一项数据有5个）\n",
        "#输出学生数目\n",
        "num = students['学号'].count() # 全部科目都参加的学生数目\n",
        "print(num) \n",
        "\n",
        "#以他们的成绩计算这5门科目的协方差矩阵：\n",
        "courses = students.groupby('科目')['成绩']  # 按科目分组\n",
        "course_names = list(courses.groups.keys()) #keys()返回字典中的所有键,list()转换为列表用于后面的迭代\n",
        "course_scores = np.array([courses.get_group(name).to_numpy() for name in course_names]).T #将每门课的成绩转换为numpy数组\n",
        "#但是上面最开始的转化得到的array是一个5行41列的矩阵，不符合DataFrame的格式，因此需要转置得到41行5列的矩阵\n",
        "#print(course_scores.shape)\n",
        "course = pd.DataFrame(course_scores,columns=course_names)\n",
        "ovMat = course.cov()\n",
        "print(ovMat)\n",
        "\n",
        "#使用imshow绘图展示协方差矩阵（？为什么用imshow？）\n",
        "plt.imshow(ovMat)\n",
        "plt.xticks((0,1,2,3,4),course_names)\n",
        "plt.yticks((0,1,2,3,4),course_names)\n",
        "plt.colorbar()"
      ]
    }
  ],
  "metadata": {
    "kernelspec": {
      "display_name": "Python 3",
      "language": "python",
      "name": "python3"
    },
    "language_info": {
      "codemirror_mode": {
        "name": "ipython",
        "version": 3
      },
      "file_extension": ".py",
      "mimetype": "text/x-python",
      "name": "python",
      "nbconvert_exporter": "python",
      "pygments_lexer": "ipython3",
      "version": "3.9.18"
    }
  },
  "nbformat": 4,
  "nbformat_minor": 2
}
