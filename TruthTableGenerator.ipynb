{
 "cells": [
  {
   "cell_type": "code",
   "execution_count": 58,
   "metadata": {},
   "outputs": [
    {
     "ename": "SyntaxError",
     "evalue": "invalid syntax (522930898.py, line 21)",
     "output_type": "error",
     "traceback": [
      "\u001b[1;36m  Cell \u001b[1;32mIn[58], line 21\u001b[1;36m\u001b[0m\n\u001b[1;33m    res+=str(0 if var_dict[BoolFunc[j]]== else 1)\u001b[0m\n\u001b[1;37m                                          ^\u001b[0m\n\u001b[1;31mSyntaxError\u001b[0m\u001b[1;31m:\u001b[0m invalid syntax\n"
     ]
    }
   ],
   "source": [
    "def TruthTableGen(var_num=0,var_names=\"\",BoolFunc=\"\"):\n",
    "    import pandas as pd\n",
    "    if var_num!=len(var_names):\n",
    "        raise ValueError(\"Error: number of variables does not match the number of variable names\")\n",
    "    if len(var_names)!=len(set(var_names)):\n",
    "        raise ValueError(\"Error: duplicate variable names\")\n",
    "    var = [var for var in var_names]\n",
    "    res = \"\"\n",
    "    table = pd.DataFrame(columns=var.append(f\"BoolFunc={BoolFunc}\"))\n",
    "    print(table.columns)\n",
    "    print(var)\n",
    "    for i in range(2**var_num):\n",
    "        var_values=[int(j) for j in list(bin(i)[2:].zfill(var_num))]\n",
    "        var_dict=dict(zip(var_names,var_values))\n",
    "        j=0\n",
    "        for i in range(var_num):\n",
    "            if j<=var_num-2:\n",
    "                if BoolFunc[j] not in var_dict.keys():\n",
    "                    raise ValueError(\"Error: incorrect format of the boolean function\")\n",
    "                if BoolFunc[j] in var_dict.keys() and BoolFunc[j+1]==\"'\":\n",
    "                    res+=str(0 if var_dict[BoolFunc[j]]==1 else 1)\n",
    "                    j+=2\n",
    "                elif BoolFunc[j] in var_dict.keys() and BoolFunc[j+1]==\"+\":\n",
    "                    res+=(str(var_dict[BoolFunc[j]])+'+')\n",
    "                    j+=2\n",
    "                else:\n",
    "                    res+=str(var_dict[BoolFunc[j]]+'*')\n",
    "                    j+=1\n",
    "            else:\n",
    "                if BoolFunc[j] not in var_dict.keys():\n",
    "                    raise ValueError(\"Error: incorrect format of the boolean function\")\n",
    "                else:\n",
    "                    res+=str(var_dict[BoolFunc[j]])\n",
    "        result=list(bin(i)[2:].zfill(var_num)).append(eval(res))\n",
    "        print(res,i-1,var_values,var_dict,result)\n",
    "        for i in len(table.columns):\n",
    "            table[i].append(res[i])\n",
    "    return table"
   ]
  },
  {
   "cell_type": "code",
   "execution_count": 64,
   "metadata": {},
   "outputs": [
    {
     "name": "stdout",
     "output_type": "stream",
     "text": [
      "   A  B\n",
      "0  0  0\n",
      "1  1  1\n",
      "   A  B Result\n",
      "0  0  0    0.0\n",
      "1  1  1  False\n"
     ]
    }
   ],
   "source": [
    "import pandas as pd  \n",
    "  \n",
    "def TruthTableGen(var_num, var_names, BoolFunc):  \n",
    "    # 分割变量名，处理逗号分隔的情况  \n",
    "    var_names_list = var_names.split(',')  \n",
    "      \n",
    "    if var_num != len(var_names_list):  \n",
    "        raise ValueError(\"Error: number of variables does not match the number of variable names\")  \n",
    "      \n",
    "    # 初始化真值表  \n",
    "    table = pd.DataFrame({var: [0, 1] for var in var_names_list}) \n",
    "    print(table) \n",
    "      \n",
    "    # 替换自定义运算符为Python标准运算符  \n",
    "    bool_func_replaced = BoolFunc.replace('*', ' and ').replace('+', ' or ').replace('_', ' not ')  \n",
    "      \n",
    "    # 计算所有可能的变量组合  \n",
    "    for index, row in table.iterrows():  \n",
    "        var_values = row.to_list()  # 获取当前行的变量值  \n",
    "        var_dict = dict(zip(var_names_list, var_values))  # 创建变量字典  \n",
    "          \n",
    "        # 使用eval评估布尔函数，注意设置局部和安全的环境  \n",
    "        try:  \n",
    "            result = eval(bool_func_replaced, {}, var_dict)  \n",
    "        except Exception as e:  \n",
    "            raise ValueError(f\"Error evaluating boolean function: {e}\")  \n",
    "          \n",
    "        # 将结果存入数据帧  \n",
    "        table.at[index, 'Result'] = result  \n",
    "      \n",
    "    return table  \n",
    "  \n",
    "# 示例使用  \n",
    "var_num = 2  \n",
    "var_names = \"A,B\"  \n",
    "BoolFunc = \"_A * B\"  # A_ 代表 ~A & B，即 not A and B  \n",
    "df_truth_table = TruthTableGen(var_num, var_names, BoolFunc)  \n",
    "print(df_truth_table)"
   ]
  },
  {
   "cell_type": "code",
   "execution_count": 66,
   "metadata": {},
   "outputs": [
    {
     "ename": "NameError",
     "evalue": "name 'A' is not defined",
     "output_type": "error",
     "traceback": [
      "\u001b[1;31m---------------------------------------------------------------------------\u001b[0m",
      "\u001b[1;31mNameError\u001b[0m                                 Traceback (most recent call last)",
      "Cell \u001b[1;32mIn[66], line 39\u001b[0m\n\u001b[0;32m     37\u001b[0m var_names \u001b[38;5;241m=\u001b[39m \u001b[38;5;124m\"\u001b[39m\u001b[38;5;124mA,B\u001b[39m\u001b[38;5;124m\"\u001b[39m  \n\u001b[0;32m     38\u001b[0m BoolFunc \u001b[38;5;241m=\u001b[39m \u001b[38;5;124m\"\u001b[39m\u001b[38;5;124m_A+B\u001b[39m\u001b[38;5;124m\"\u001b[39m  \u001b[38;5;66;03m# A_ 代表 not A and B  \u001b[39;00m\n\u001b[1;32m---> 39\u001b[0m df_truth_table \u001b[38;5;241m=\u001b[39m \u001b[43mTruthTableGen\u001b[49m\u001b[43m(\u001b[49m\u001b[43mvar_num\u001b[49m\u001b[43m,\u001b[49m\u001b[43m \u001b[49m\u001b[43mvar_names\u001b[49m\u001b[43m,\u001b[49m\u001b[43m \u001b[49m\u001b[43mBoolFunc\u001b[49m\u001b[43m)\u001b[49m  \n\u001b[0;32m     40\u001b[0m \u001b[38;5;28mprint\u001b[39m(df_truth_table)\n",
      "Cell \u001b[1;32mIn[66], line 31\u001b[0m, in \u001b[0;36mTruthTableGen\u001b[1;34m(var_num, var_names, BoolFunc)\u001b[0m\n\u001b[0;32m     28\u001b[0m         bool_func_processed \u001b[38;5;241m=\u001b[39m bool_func_processed\u001b[38;5;241m.\u001b[39mreplace(not_var, \u001b[38;5;124mf\u001b[39m\u001b[38;5;124m\"\u001b[39m\u001b[38;5;124mnot \u001b[39m\u001b[38;5;132;01m{\u001b[39;00mvar_name\u001b[38;5;132;01m}\u001b[39;00m\u001b[38;5;124m\"\u001b[39m)  \n\u001b[0;32m     30\u001b[0m \u001b[38;5;66;03m# 计算每行对应的布尔函数结果  \u001b[39;00m\n\u001b[1;32m---> 31\u001b[0m table[\u001b[38;5;124m'\u001b[39m\u001b[38;5;124mResult\u001b[39m\u001b[38;5;124m'\u001b[39m] \u001b[38;5;241m=\u001b[39m \u001b[43mtable\u001b[49m\u001b[38;5;241;43m.\u001b[39;49m\u001b[43mapply\u001b[49m\u001b[43m(\u001b[49m\u001b[38;5;28;43;01mlambda\u001b[39;49;00m\u001b[43m \u001b[49m\u001b[43mrow\u001b[49m\u001b[43m:\u001b[49m\u001b[43m \u001b[49m\u001b[38;5;28;43meval\u001b[39;49m\u001b[43m(\u001b[49m\u001b[43mbool_func_processed\u001b[49m\u001b[38;5;241;43m.\u001b[39;49m\u001b[43mformat\u001b[49m\u001b[43m(\u001b[49m\u001b[38;5;241;43m*\u001b[39;49m\u001b[38;5;241;43m*\u001b[39;49m\u001b[43mrow\u001b[49m\u001b[43m)\u001b[49m\u001b[43m)\u001b[49m\u001b[43m,\u001b[49m\u001b[43m \u001b[49m\u001b[43maxis\u001b[49m\u001b[38;5;241;43m=\u001b[39;49m\u001b[38;5;241;43m1\u001b[39;49m\u001b[43m)\u001b[49m  \n\u001b[0;32m     33\u001b[0m \u001b[38;5;28;01mreturn\u001b[39;00m table\n",
      "File \u001b[1;32md:\\Anaconda_\\envs\\Pytorch_d2l\\lib\\site-packages\\pandas\\core\\frame.py:9423\u001b[0m, in \u001b[0;36mDataFrame.apply\u001b[1;34m(self, func, axis, raw, result_type, args, **kwargs)\u001b[0m\n\u001b[0;32m   9412\u001b[0m \u001b[38;5;28;01mfrom\u001b[39;00m \u001b[38;5;21;01mpandas\u001b[39;00m\u001b[38;5;21;01m.\u001b[39;00m\u001b[38;5;21;01mcore\u001b[39;00m\u001b[38;5;21;01m.\u001b[39;00m\u001b[38;5;21;01mapply\u001b[39;00m \u001b[38;5;28;01mimport\u001b[39;00m frame_apply\n\u001b[0;32m   9414\u001b[0m op \u001b[38;5;241m=\u001b[39m frame_apply(\n\u001b[0;32m   9415\u001b[0m     \u001b[38;5;28mself\u001b[39m,\n\u001b[0;32m   9416\u001b[0m     func\u001b[38;5;241m=\u001b[39mfunc,\n\u001b[1;32m   (...)\u001b[0m\n\u001b[0;32m   9421\u001b[0m     kwargs\u001b[38;5;241m=\u001b[39mkwargs,\n\u001b[0;32m   9422\u001b[0m )\n\u001b[1;32m-> 9423\u001b[0m \u001b[38;5;28;01mreturn\u001b[39;00m \u001b[43mop\u001b[49m\u001b[38;5;241;43m.\u001b[39;49m\u001b[43mapply\u001b[49m\u001b[43m(\u001b[49m\u001b[43m)\u001b[49m\u001b[38;5;241m.\u001b[39m__finalize__(\u001b[38;5;28mself\u001b[39m, method\u001b[38;5;241m=\u001b[39m\u001b[38;5;124m\"\u001b[39m\u001b[38;5;124mapply\u001b[39m\u001b[38;5;124m\"\u001b[39m)\n",
      "File \u001b[1;32md:\\Anaconda_\\envs\\Pytorch_d2l\\lib\\site-packages\\pandas\\core\\apply.py:678\u001b[0m, in \u001b[0;36mFrameApply.apply\u001b[1;34m(self)\u001b[0m\n\u001b[0;32m    675\u001b[0m \u001b[38;5;28;01melif\u001b[39;00m \u001b[38;5;28mself\u001b[39m\u001b[38;5;241m.\u001b[39mraw:\n\u001b[0;32m    676\u001b[0m     \u001b[38;5;28;01mreturn\u001b[39;00m \u001b[38;5;28mself\u001b[39m\u001b[38;5;241m.\u001b[39mapply_raw()\n\u001b[1;32m--> 678\u001b[0m \u001b[38;5;28;01mreturn\u001b[39;00m \u001b[38;5;28;43mself\u001b[39;49m\u001b[38;5;241;43m.\u001b[39;49m\u001b[43mapply_standard\u001b[49m\u001b[43m(\u001b[49m\u001b[43m)\u001b[49m\n",
      "File \u001b[1;32md:\\Anaconda_\\envs\\Pytorch_d2l\\lib\\site-packages\\pandas\\core\\apply.py:798\u001b[0m, in \u001b[0;36mFrameApply.apply_standard\u001b[1;34m(self)\u001b[0m\n\u001b[0;32m    797\u001b[0m \u001b[38;5;28;01mdef\u001b[39;00m \u001b[38;5;21mapply_standard\u001b[39m(\u001b[38;5;28mself\u001b[39m):\n\u001b[1;32m--> 798\u001b[0m     results, res_index \u001b[38;5;241m=\u001b[39m \u001b[38;5;28;43mself\u001b[39;49m\u001b[38;5;241;43m.\u001b[39;49m\u001b[43mapply_series_generator\u001b[49m\u001b[43m(\u001b[49m\u001b[43m)\u001b[49m\n\u001b[0;32m    800\u001b[0m     \u001b[38;5;66;03m# wrap results\u001b[39;00m\n\u001b[0;32m    801\u001b[0m     \u001b[38;5;28;01mreturn\u001b[39;00m \u001b[38;5;28mself\u001b[39m\u001b[38;5;241m.\u001b[39mwrap_results(results, res_index)\n",
      "File \u001b[1;32md:\\Anaconda_\\envs\\Pytorch_d2l\\lib\\site-packages\\pandas\\core\\apply.py:814\u001b[0m, in \u001b[0;36mFrameApply.apply_series_generator\u001b[1;34m(self)\u001b[0m\n\u001b[0;32m    811\u001b[0m \u001b[38;5;28;01mwith\u001b[39;00m option_context(\u001b[38;5;124m\"\u001b[39m\u001b[38;5;124mmode.chained_assignment\u001b[39m\u001b[38;5;124m\"\u001b[39m, \u001b[38;5;28;01mNone\u001b[39;00m):\n\u001b[0;32m    812\u001b[0m     \u001b[38;5;28;01mfor\u001b[39;00m i, v \u001b[38;5;129;01min\u001b[39;00m \u001b[38;5;28menumerate\u001b[39m(series_gen):\n\u001b[0;32m    813\u001b[0m         \u001b[38;5;66;03m# ignore SettingWithCopy here in case the user mutates\u001b[39;00m\n\u001b[1;32m--> 814\u001b[0m         results[i] \u001b[38;5;241m=\u001b[39m \u001b[38;5;28;43mself\u001b[39;49m\u001b[38;5;241;43m.\u001b[39;49m\u001b[43mf\u001b[49m\u001b[43m(\u001b[49m\u001b[43mv\u001b[49m\u001b[43m)\u001b[49m\n\u001b[0;32m    815\u001b[0m         \u001b[38;5;28;01mif\u001b[39;00m \u001b[38;5;28misinstance\u001b[39m(results[i], ABCSeries):\n\u001b[0;32m    816\u001b[0m             \u001b[38;5;66;03m# If we have a view on v, we need to make a copy because\u001b[39;00m\n\u001b[0;32m    817\u001b[0m             \u001b[38;5;66;03m#  series_generator will swap out the underlying data\u001b[39;00m\n\u001b[0;32m    818\u001b[0m             results[i] \u001b[38;5;241m=\u001b[39m results[i]\u001b[38;5;241m.\u001b[39mcopy(deep\u001b[38;5;241m=\u001b[39m\u001b[38;5;28;01mFalse\u001b[39;00m)\n",
      "Cell \u001b[1;32mIn[66], line 31\u001b[0m, in \u001b[0;36mTruthTableGen.<locals>.<lambda>\u001b[1;34m(row)\u001b[0m\n\u001b[0;32m     28\u001b[0m         bool_func_processed \u001b[38;5;241m=\u001b[39m bool_func_processed\u001b[38;5;241m.\u001b[39mreplace(not_var, \u001b[38;5;124mf\u001b[39m\u001b[38;5;124m\"\u001b[39m\u001b[38;5;124mnot \u001b[39m\u001b[38;5;132;01m{\u001b[39;00mvar_name\u001b[38;5;132;01m}\u001b[39;00m\u001b[38;5;124m\"\u001b[39m)  \n\u001b[0;32m     30\u001b[0m \u001b[38;5;66;03m# 计算每行对应的布尔函数结果  \u001b[39;00m\n\u001b[1;32m---> 31\u001b[0m table[\u001b[38;5;124m'\u001b[39m\u001b[38;5;124mResult\u001b[39m\u001b[38;5;124m'\u001b[39m] \u001b[38;5;241m=\u001b[39m table\u001b[38;5;241m.\u001b[39mapply(\u001b[38;5;28;01mlambda\u001b[39;00m row: \u001b[38;5;28;43meval\u001b[39;49m\u001b[43m(\u001b[49m\u001b[43mbool_func_processed\u001b[49m\u001b[38;5;241;43m.\u001b[39;49m\u001b[43mformat\u001b[49m\u001b[43m(\u001b[49m\u001b[38;5;241;43m*\u001b[39;49m\u001b[38;5;241;43m*\u001b[39;49m\u001b[43mrow\u001b[49m\u001b[43m)\u001b[49m\u001b[43m)\u001b[49m, axis\u001b[38;5;241m=\u001b[39m\u001b[38;5;241m1\u001b[39m)  \n\u001b[0;32m     33\u001b[0m \u001b[38;5;28;01mreturn\u001b[39;00m table\n",
      "File \u001b[1;32m<string>:1\u001b[0m\n",
      "\u001b[1;31mNameError\u001b[0m: name 'A' is not defined"
     ]
    }
   ],
   "source": [
    "import pandas as pd  \n",
    "import itertools  \n",
    "  \n",
    "def TruthTableGen(var_num, var_names, BoolFunc):  \n",
    "    # 确保变量名没有空格或其他非法字符，且每个变量名前都没有_  \n",
    "    if not all(var.replace('_', '').isalnum() for var in var_names.split(',')):  \n",
    "        raise ValueError(\"Error: invalid character in variable names or underscore before variable\")  \n",
    "      \n",
    "    # 分割变量名  \n",
    "    var_names_list = var_names.split(',')  \n",
    "      \n",
    "    # 检查变量数量是否匹配  \n",
    "    if var_num != len(var_names_list):  \n",
    "        raise ValueError(\"Error: number of variables does not match the number of variable names\")  \n",
    "      \n",
    "    # 初始化真值表，包含所有变量的所有可能组合  \n",
    "    table = pd.DataFrame(itertools.product([0, 1], repeat=var_num), columns=var_names_list)  \n",
    "      \n",
    "    # 处理布尔函数，将_前缀的变量替换为not操作  \n",
    "    def replace_not(match):  \n",
    "        var_name = match.group(1)  \n",
    "        return f\"not {var_name}\"  \n",
    "      \n",
    "    bool_func_processed = BoolFunc  \n",
    "    for var_name in var_names_list:  \n",
    "        not_var = f\"_{var_name}\"  \n",
    "        if not_var in BoolFunc:  \n",
    "            bool_func_processed = bool_func_processed.replace(not_var, f\"not {var_name}\")  \n",
    "      \n",
    "    # 计算每行对应的布尔函数结果  \n",
    "    table['Result'] = table.apply(lambda row: eval(bool_func_processed.format(**row)), axis=1)  \n",
    "      \n",
    "    return table  \n",
    "  \n",
    "# 示例使用  \n",
    "var_num = 2  \n",
    "var_names = \"A,B\"  \n",
    "BoolFunc = \"_A+B\"  # A_ 代表 not A and B  \n",
    "df_truth_table = TruthTableGen(var_num, var_names, BoolFunc)  \n",
    "print(df_truth_table)"
   ]
  },
  {
   "cell_type": "code",
   "execution_count": 57,
   "metadata": {},
   "outputs": [
    {
     "name": "stdout",
     "output_type": "stream",
     "text": [
      "RangeIndex(start=0, stop=0, step=1)\n",
      "['A', 'B', \"BoolFunc=A+B'\"]\n",
      "0+0 0 [0, 0] {'A': 0, 'B': 0} None\n"
     ]
    },
    {
     "ename": "TypeError",
     "evalue": "'int' object is not iterable",
     "output_type": "error",
     "traceback": [
      "\u001b[1;31m---------------------------------------------------------------------------\u001b[0m",
      "\u001b[1;31mTypeError\u001b[0m                                 Traceback (most recent call last)",
      "Cell \u001b[1;32mIn[57], line 1\u001b[0m\n\u001b[1;32m----> 1\u001b[0m table \u001b[38;5;241m=\u001b[39m \u001b[43mTruthTableGen\u001b[49m\u001b[43m(\u001b[49m\u001b[38;5;241;43m2\u001b[39;49m\u001b[43m,\u001b[49m\u001b[38;5;124;43m\"\u001b[39;49m\u001b[38;5;124;43mAB\u001b[39;49m\u001b[38;5;124;43m\"\u001b[39;49m\u001b[43m,\u001b[49m\u001b[38;5;124;43m\"\u001b[39;49m\u001b[38;5;124;43mA+B\u001b[39;49m\u001b[38;5;124;43m'\u001b[39;49m\u001b[38;5;124;43m\"\u001b[39;49m\u001b[43m)\u001b[49m\n\u001b[0;32m      2\u001b[0m \u001b[38;5;28mprint\u001b[39m(table)\n\u001b[0;32m      3\u001b[0m \u001b[38;5;28mprint\u001b[39m(\u001b[38;5;28mlist\u001b[39m(\u001b[38;5;28mbin\u001b[39m(\u001b[38;5;241m0\u001b[39m)[\u001b[38;5;241m2\u001b[39m:]\u001b[38;5;241m.\u001b[39mzfill(\u001b[38;5;241m2\u001b[39m))\u001b[38;5;241m.\u001b[39mappend(\u001b[38;5;28meval\u001b[39m(\u001b[38;5;124m\"\u001b[39m\u001b[38;5;124m0+1\u001b[39m\u001b[38;5;124m\"\u001b[39m)))\n",
      "Cell \u001b[1;32mIn[56], line 36\u001b[0m, in \u001b[0;36mTruthTableGen\u001b[1;34m(var_num, var_names, BoolFunc)\u001b[0m\n\u001b[0;32m     34\u001b[0m     result\u001b[38;5;241m=\u001b[39m\u001b[38;5;28mlist\u001b[39m(\u001b[38;5;28mbin\u001b[39m(i)[\u001b[38;5;241m2\u001b[39m:]\u001b[38;5;241m.\u001b[39mzfill(var_num))\u001b[38;5;241m.\u001b[39mappend(\u001b[38;5;28meval\u001b[39m(res))\n\u001b[0;32m     35\u001b[0m     \u001b[38;5;28mprint\u001b[39m(res,i\u001b[38;5;241m-\u001b[39m\u001b[38;5;241m1\u001b[39m,var_values,var_dict,result)\n\u001b[1;32m---> 36\u001b[0m     \u001b[38;5;28;01mfor\u001b[39;00m i \u001b[38;5;129;01min\u001b[39;00m \u001b[38;5;28mlen\u001b[39m(table\u001b[38;5;241m.\u001b[39mcolumns):\n\u001b[0;32m     37\u001b[0m         table[i]\u001b[38;5;241m.\u001b[39mappend(res[i])\n\u001b[0;32m     38\u001b[0m \u001b[38;5;28;01mreturn\u001b[39;00m table\n",
      "\u001b[1;31mTypeError\u001b[0m: 'int' object is not iterable"
     ]
    }
   ],
   "source": [
    "table = TruthTableGen(2,\"AB\",\"A+B'\")\n",
    "print(table)\n",
    "print(list(bin(0)[2:].zfill(2)).append(eval(\"0+1\")))"
   ]
  }
 ],
 "metadata": {
  "kernelspec": {
   "display_name": "Pytorch_d2l",
   "language": "python",
   "name": "python3"
  },
  "language_info": {
   "codemirror_mode": {
    "name": "ipython",
    "version": 3
   },
   "file_extension": ".py",
   "mimetype": "text/x-python",
   "name": "python",
   "nbconvert_exporter": "python",
   "pygments_lexer": "ipython3",
   "version": "3.9.18"
  }
 },
 "nbformat": 4,
 "nbformat_minor": 2
}
